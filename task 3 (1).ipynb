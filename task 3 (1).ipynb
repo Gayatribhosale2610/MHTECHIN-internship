{
 "cells": [
  {
   "cell_type": "code",
   "execution_count": null,
   "id": "064d39f9",
   "metadata": {},
   "outputs": [],
   "source": [
    "import mysql.connector\n",
    "myconn = mysql.connector.connect(host = \"localhost\", user = \"root\", password = \"\")\n",
    "print(myconn)"
   ]
  },
  {
   "cell_type": "code",
   "execution_count": null,
   "id": "da499004",
   "metadata": {},
   "outputs": [],
   "source": [
    "cur = myconn.cursor()"
   ]
  },
  {
   "cell_type": "code",
   "execution_count": null,
   "id": "f8ea05e4",
   "metadata": {},
   "outputs": [],
   "source": [
    "show databases\n",
    "try:\n",
    "    dbs = cur.execute(\"show databases\")\n",
    "except:\n",
    "    myconn.rollback()\n",
    "    \n",
    "for i in cur:\n",
    "    print(i)\n",
    "myconn.close()"
   ]
  },
  {
   "cell_type": "code",
   "execution_count": null,
   "id": "02befe60",
   "metadata": {},
   "outputs": [],
   "source": [
    "cur.execute(\"create database task3\")\n",
    "dbs = cur.execute(\"show databases\")\n",
    "for i in cur:\n",
    "    print(i)\n",
    "myconn.close"
   ]
  },
  {
   "cell_type": "code",
   "execution_count": null,
   "id": "8131795a",
   "metadata": {
    "scrolled": true
   },
   "outputs": [],
   "source": [
    "cur.execute(\"drop database acc\")\n",
    "dbs = cur.execute(\"show databases\")\n",
    "for i in cur:\n",
    "    print(i)\n",
    "myconn.close"
   ]
  },
  {
   "cell_type": "code",
   "execution_count": null,
   "id": "afbf09d8",
   "metadata": {},
   "outputs": [],
   "source": [
    "cur. execute(\"use task3\")"
   ]
  },
  {
   "cell_type": "code",
   "execution_count": null,
   "id": "7851a431",
   "metadata": {
    "scrolled": true
   },
   "outputs": [],
   "source": [
    "cur.execute(\"create table t1(name varchar(10), age int(5))\")"
   ]
  },
  {
   "cell_type": "code",
   "execution_count": null,
   "id": "6c2cd038",
   "metadata": {},
   "outputs": [],
   "source": [
    "cur.execute(\"describe t1\")\n",
    "for i in cur:\n",
    "    print(i)\n",
    "myconn.close"
   ]
  },
  {
   "cell_type": "code",
   "execution_count": null,
   "id": "ff39297b",
   "metadata": {},
   "outputs": [],
   "source": [
    "db = \"insert into t1(name, age) values(%s, %s)\"\n",
    "val = (\"John\", 22)\n",
    "cur.execute(db, val)"
   ]
  },
  {
   "cell_type": "code",
   "execution_count": null,
   "id": "b848584e",
   "metadata": {
    "scrolled": true
   },
   "outputs": [],
   "source": [
    "cur.execute(\"select *from t1\")\n",
    "result = cur.fetchall()\n",
    "for i in result:\n",
    "    print(i)\n",
    "myconn.close()"
   ]
  },
  {
   "cell_type": "code",
   "execution_count": null,
   "id": "2c60625d",
   "metadata": {},
   "outputs": [],
   "source": []
  }
 ],
 "metadata": {
  "kernelspec": {
   "display_name": "Python 3 (ipykernel)",
   "language": "python",
   "name": "python3"
  },
  "language_info": {
   "codemirror_mode": {
    "name": "ipython",
    "version": 3
   },
   "file_extension": ".py",
   "mimetype": "text/x-python",
   "name": "python",
   "nbconvert_exporter": "python",
   "pygments_lexer": "ipython3",
   "version": "3.11.0"
  }
 },
 "nbformat": 4,
 "nbformat_minor": 5
}
